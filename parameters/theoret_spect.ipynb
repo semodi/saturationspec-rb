{
 "cells": [
  {
   "cell_type": "code",
   "execution_count": 405,
   "metadata": {},
   "outputs": [
    {
     "name": "stdout",
     "output_type": "stream",
     "text": [
      "Populating the interactive namespace from numpy and matplotlib\n"
     ]
    },
    {
     "name": "stderr",
     "output_type": "stream",
     "text": [
      "/home/sebastian/miniconda3/lib/python3.5/site-packages/IPython/core/magics/pylab.py:161: UserWarning: pylab import has clobbered these variables: ['cov']\n",
      "`%matplotlib` prevents importing * from pylab and numpy\n",
      "  \"\\n`%matplotlib` prevents importing * from pylab and numpy\"\n"
     ]
    }
   ],
   "source": [
    "import pandas as pd\n",
    "import numpy as np\n",
    "from scipy import optimize as opt\n",
    "%pylab inline"
   ]
  },
  {
   "cell_type": "code",
   "execution_count": 406,
   "metadata": {
    "collapsed": true
   },
   "outputs": [],
   "source": [
    "sff = pd.DataFrame.from_csv('sff.csv')"
   ]
  },
  {
   "cell_type": "code",
   "execution_count": 407,
   "metadata": {},
   "outputs": [
    {
     "data": {
      "text/html": [
       "<div>\n",
       "<table border=\"1\" class=\"dataframe\">\n",
       "  <thead>\n",
       "    <tr style=\"text-align: right;\">\n",
       "      <th></th>\n",
       "      <th>0</th>\n",
       "      <th>1</th>\n",
       "      <th>2</th>\n",
       "      <th>3</th>\n",
       "      <th>4</th>\n",
       "    </tr>\n",
       "  </thead>\n",
       "  <tbody>\n",
       "    <tr>\n",
       "      <th>1-Rb87</th>\n",
       "      <td>0.111111</td>\n",
       "      <td>0.277778</td>\n",
       "      <td>0.277778</td>\n",
       "      <td>0.000000</td>\n",
       "      <td>0</td>\n",
       "    </tr>\n",
       "    <tr>\n",
       "      <th>2-Rb87</th>\n",
       "      <td>0.000000</td>\n",
       "      <td>0.055556</td>\n",
       "      <td>0.277778</td>\n",
       "      <td>0.777778</td>\n",
       "      <td>0</td>\n",
       "    </tr>\n",
       "    <tr>\n",
       "      <th>2-Rb85</th>\n",
       "      <td>0.000000</td>\n",
       "      <td>0.330000</td>\n",
       "      <td>0.432099</td>\n",
       "      <td>0.345679</td>\n",
       "      <td>0</td>\n",
       "    </tr>\n",
       "    <tr>\n",
       "      <th>3-Rb85</th>\n",
       "      <td>0.000000</td>\n",
       "      <td>0.000000</td>\n",
       "      <td>0.123457</td>\n",
       "      <td>0.432099</td>\n",
       "      <td>1</td>\n",
       "    </tr>\n",
       "  </tbody>\n",
       "</table>\n",
       "</div>"
      ],
      "text/plain": [
       "               0         1         2         3  4\n",
       "1-Rb87  0.111111  0.277778  0.277778  0.000000  0\n",
       "2-Rb87  0.000000  0.055556  0.277778  0.777778  0\n",
       "2-Rb85  0.000000  0.330000  0.432099  0.345679  0\n",
       "3-Rb85  0.000000  0.000000  0.123457  0.432099  1"
      ]
     },
     "execution_count": 407,
     "metadata": {},
     "output_type": "execute_result"
    }
   ],
   "source": [
    "sff"
   ]
  },
  {
   "cell_type": "code",
   "execution_count": 408,
   "metadata": {
    "collapsed": true
   },
   "outputs": [],
   "source": [
    "freq = pd.DataFrame.from_csv('freq.csv')"
   ]
  },
  {
   "cell_type": "code",
   "execution_count": 409,
   "metadata": {},
   "outputs": [
    {
     "data": {
      "text/html": [
       "<div>\n",
       "<table border=\"1\" class=\"dataframe\">\n",
       "  <thead>\n",
       "    <tr style=\"text-align: right;\">\n",
       "      <th></th>\n",
       "      <th>Rb85-S</th>\n",
       "      <th>Rb85-P</th>\n",
       "      <th>Rb87-S</th>\n",
       "      <th>Rb87-P</th>\n",
       "    </tr>\n",
       "  </thead>\n",
       "  <tbody>\n",
       "    <tr>\n",
       "      <th>0</th>\n",
       "      <td>NaN</td>\n",
       "      <td>NaN</td>\n",
       "      <td>NaN</td>\n",
       "      <td>-302.074</td>\n",
       "    </tr>\n",
       "    <tr>\n",
       "      <th>1</th>\n",
       "      <td>NaN</td>\n",
       "      <td>-113.2</td>\n",
       "      <td>4271.677</td>\n",
       "      <td>-229.852</td>\n",
       "    </tr>\n",
       "    <tr>\n",
       "      <th>2</th>\n",
       "      <td>1770.843</td>\n",
       "      <td>-83.8</td>\n",
       "      <td>-2536.005</td>\n",
       "      <td>-72.911</td>\n",
       "    </tr>\n",
       "    <tr>\n",
       "      <th>3</th>\n",
       "      <td>-1264.889</td>\n",
       "      <td>-20.5</td>\n",
       "      <td>NaN</td>\n",
       "      <td>193.741</td>\n",
       "    </tr>\n",
       "    <tr>\n",
       "      <th>4</th>\n",
       "      <td>NaN</td>\n",
       "      <td>100.2</td>\n",
       "      <td>NaN</td>\n",
       "      <td>NaN</td>\n",
       "    </tr>\n",
       "  </tbody>\n",
       "</table>\n",
       "</div>"
      ],
      "text/plain": [
       "     Rb85-S  Rb85-P    Rb87-S   Rb87-P\n",
       "0       NaN     NaN       NaN -302.074\n",
       "1       NaN  -113.2  4271.677 -229.852\n",
       "2  1770.843   -83.8 -2536.005  -72.911\n",
       "3 -1264.889   -20.5       NaN  193.741\n",
       "4       NaN   100.2       NaN      NaN"
      ]
     },
     "execution_count": 409,
     "metadata": {},
     "output_type": "execute_result"
    }
   ],
   "source": [
    "freq"
   ]
  },
  {
   "cell_type": "code",
   "execution_count": 410,
   "metadata": {
    "collapsed": true
   },
   "outputs": [],
   "source": [
    "d_line_87 = 384.2304844e6"
   ]
  },
  {
   "cell_type": "code",
   "execution_count": 411,
   "metadata": {
    "collapsed": true
   },
   "outputs": [],
   "source": [
    "d_line_85 = 384.2304064e6"
   ]
  },
  {
   "cell_type": "markdown",
   "metadata": {},
   "source": [
    "## Transition frequencies for hyperfine levels"
   ]
  },
  {
   "cell_type": "markdown",
   "metadata": {},
   "source": [
    "### Rb85"
   ]
  },
  {
   "cell_type": "code",
   "execution_count": 412,
   "metadata": {},
   "outputs": [
    {
     "data": {
      "text/html": [
       "<div>\n",
       "<table border=\"1\" class=\"dataframe\">\n",
       "  <thead>\n",
       "    <tr style=\"text-align: right;\">\n",
       "      <th></th>\n",
       "      <th>1</th>\n",
       "      <th>2</th>\n",
       "      <th>3</th>\n",
       "      <th>4</th>\n",
       "    </tr>\n",
       "  </thead>\n",
       "  <tbody>\n",
       "    <tr>\n",
       "      <th>2</th>\n",
       "      <td>3.842321e+08</td>\n",
       "      <td>3.842321e+08</td>\n",
       "      <td>3.842322e+08</td>\n",
       "      <td>0.000000e+00</td>\n",
       "    </tr>\n",
       "    <tr>\n",
       "      <th>3</th>\n",
       "      <td>0.000000e+00</td>\n",
       "      <td>3.842291e+08</td>\n",
       "      <td>3.842291e+08</td>\n",
       "      <td>3.842292e+08</td>\n",
       "    </tr>\n",
       "  </tbody>\n",
       "</table>\n",
       "</div>"
      ],
      "text/plain": [
       "              1             2             3             4\n",
       "2  3.842321e+08  3.842321e+08  3.842322e+08  0.000000e+00\n",
       "3  0.000000e+00  3.842291e+08  3.842291e+08  3.842292e+08"
      ]
     },
     "execution_count": 412,
     "metadata": {},
     "output_type": "execute_result"
    }
   ],
   "source": [
    "frequencies_85 = np.zeros(8).reshape(2,4)\n",
    "for i in range(2):\n",
    "    for j in range(i,i+3):\n",
    "        frequencies_85[i,j] = d_line_85 + freq['Rb85-S'][2+i] + freq['Rb85-P'][1+j]\n",
    "        \n",
    "frequencies_85   \n",
    "df_freq_85 = pd.DataFrame(frequencies_85,columns=['1','2','3','4'],index = ['2','3'])\n",
    "df_freq_85"
   ]
  },
  {
   "cell_type": "markdown",
   "metadata": {},
   "source": [
    "### Rb87"
   ]
  },
  {
   "cell_type": "code",
   "execution_count": 413,
   "metadata": {
    "scrolled": true
   },
   "outputs": [
    {
     "data": {
      "text/html": [
       "<div>\n",
       "<table border=\"1\" class=\"dataframe\">\n",
       "  <thead>\n",
       "    <tr style=\"text-align: right;\">\n",
       "      <th></th>\n",
       "      <th>0</th>\n",
       "      <th>1</th>\n",
       "      <th>2</th>\n",
       "      <th>3</th>\n",
       "    </tr>\n",
       "  </thead>\n",
       "  <tbody>\n",
       "    <tr>\n",
       "      <th>1</th>\n",
       "      <td>3.842345e+08</td>\n",
       "      <td>3.842345e+08</td>\n",
       "      <td>3.842347e+08</td>\n",
       "      <td>0.000000e+00</td>\n",
       "    </tr>\n",
       "    <tr>\n",
       "      <th>2</th>\n",
       "      <td>0.000000e+00</td>\n",
       "      <td>3.842277e+08</td>\n",
       "      <td>3.842279e+08</td>\n",
       "      <td>3.842281e+08</td>\n",
       "    </tr>\n",
       "  </tbody>\n",
       "</table>\n",
       "</div>"
      ],
      "text/plain": [
       "              0             1             2             3\n",
       "1  3.842345e+08  3.842345e+08  3.842347e+08  0.000000e+00\n",
       "2  0.000000e+00  3.842277e+08  3.842279e+08  3.842281e+08"
      ]
     },
     "execution_count": 413,
     "metadata": {},
     "output_type": "execute_result"
    }
   ],
   "source": [
    "frequencies_87 = np.zeros(8).reshape(2,4)\n",
    "for i in range(2):\n",
    "    for j in range(i,i+3):\n",
    "        frequencies_87[i,j] = d_line_87 + freq['Rb87-S'][1+i]  + freq['Rb87-P'][j]\n",
    "        \n",
    "frequencies_87   \n",
    "df_freq_87 = pd.DataFrame(frequencies_87,columns=['0','1','2','3'],index = ['1','2'])\n",
    "df_freq_87"
   ]
  },
  {
   "cell_type": "markdown",
   "metadata": {},
   "source": [
    "## Overlap lines"
   ]
  },
  {
   "cell_type": "code",
   "execution_count": 414,
   "metadata": {
    "collapsed": true
   },
   "outputs": [],
   "source": [
    "def gauss(x, N, mu, sig):\n",
    "    return N*np.exp(-((x-mu)/sig)**2)\n",
    "\n",
    "def two_gauss(x,N1,N2,mu1,mu2,sig1,sig2):\n",
    "    return gauss(x,N1,mu1,sig1)+ gauss(x,N2,mu2,sig2)\n",
    "\n"
   ]
  },
  {
   "cell_type": "markdown",
   "metadata": {},
   "source": [
    "### Rb85"
   ]
  },
  {
   "cell_type": "code",
   "execution_count": 415,
   "metadata": {},
   "outputs": [],
   "source": [
    "kb = 1.38065e-23\n",
    "c =  299792558\n",
    "T = 295.15\n",
    "M_85 = 1.409993e-25"
   ]
  },
  {
   "cell_type": "code",
   "execution_count": 416,
   "metadata": {},
   "outputs": [
    {
     "data": {
      "text/plain": [
       "array([ 0.33      ,  0.43209877,  0.34567901,  0.        ,  0.        ,\n",
       "        0.12345679,  0.43209877,  1.        ])"
      ]
     },
     "execution_count": 416,
     "metadata": {},
     "output_type": "execute_result"
    }
   ],
   "source": [
    "sigma_85 = np.array(np.sqrt(kb*T/(M_85*(c**2)))*df_freq_85).flatten()\n",
    "mu_85 = np.array(df_freq_85 - df_freq_85['1'][0]).flatten()\n",
    "N_85 = np.array(sff[2:4])[:,1:5].flatten()\n",
    "np.array(df_freq_85).flatten()\n"
   ]
  },
  {
   "cell_type": "code",
   "execution_count": 418,
   "metadata": {
    "scrolled": true
   },
   "outputs": [
    {
     "data": {
      "text/plain": [
       "[<matplotlib.lines.Line2D at 0x7fa49a113a58>]"
      ]
     },
     "execution_count": 418,
     "metadata": {},
     "output_type": "execute_result"
    },
    {
     "data": {
      "image/png": "[encoded data removed]",
      "text/plain": [
       "<matplotlib.figure.Figure at 0x7fa49a113d30>"
      ]
     },
     "metadata": {},
     "output_type": "display_data"
    }
   ],
   "source": [
    "x= np.arange(-6000,3000,10)\n",
    "y= np.zeros(len(x))\n",
    "y_gauss = []\n",
    "for i in range(8):\n",
    "    if(sigma[i] != 0):\n",
    "        y += gauss(x,N_85[i],mu_85[i],sigma_85[i])\n",
    "        plot(x,gauss(x,N_85[i],mu_85[i],sigma_85[i]),color = 'grey',ls = '--')\n",
    "        y_gauss.append(gauss(x,N_85[i],mu_85[i],sigma_85[i]))\n",
    "    else:\n",
    "        y_gauss.append(np.zeros(len(x)))\n",
    "        \n",
    "par_85, cov = opt.curve_fit(two_gauss,x,y,[1,1,-3000,0,217,217])\n",
    "plot(x,y)\n"
   ]
  },
  {
   "cell_type": "code",
   "execution_count": 419,
   "metadata": {
    "scrolled": true
   },
   "outputs": [],
   "source": [
    "gap_85 = par_85[3]-par_85[2]"
   ]
  },
  {
   "cell_type": "code",
   "execution_count": 420,
   "metadata": {},
   "outputs": [
    {
     "data": {
      "text/plain": [
       "224.2814303011981"
      ]
     },
     "execution_count": 420,
     "metadata": {},
     "output_type": "execute_result"
    }
   ],
   "source": [
    "rb85_f2_width = par_85[5]\n",
    "rb85_f2_width"
   ]
  },
  {
   "cell_type": "code",
   "execution_count": 421,
   "metadata": {},
   "outputs": [
    {
     "data": {
      "text/plain": [
       "2908.2579090305871"
      ]
     },
     "execution_count": 421,
     "metadata": {},
     "output_type": "execute_result"
    }
   ],
   "source": [
    "gap_85"
   ]
  },
  {
   "cell_type": "markdown",
   "metadata": {},
   "source": [
    "### Rb 87"
   ]
  },
  {
   "cell_type": "code",
   "execution_count": 422,
   "metadata": {
    "collapsed": true
   },
   "outputs": [],
   "source": [
    "M_87 = 1.44316077e-25"
   ]
  },
  {
   "cell_type": "code",
   "execution_count": 423,
   "metadata": {},
   "outputs": [],
   "source": [
    "sigma = np.array(np.sqrt(kb*T/(M_87*(c**2)))*df_freq_87).flatten()\n",
    "mu = np.array(df_freq_87 - df_freq_85['1'][0]).flatten()\n",
    "N = np.array(sff[0:2])[:,0:4].flatten()"
   ]
  },
  {
   "cell_type": "code",
   "execution_count": 436,
   "metadata": {},
   "outputs": [
    {
     "data": {
      "image/png": "[encoded data removed]",
      "text/plain": [
       "<matplotlib.figure.Figure at 0x7fa499f2ab70>"
      ]
     },
     "metadata": {},
     "output_type": "display_data"
    }
   ],
   "source": [
    "figsize(6,4)\n",
    "x= np.arange(-6000,3000,10)\n",
    "y_87= np.zeros(len(x))\n",
    "for i,y_g in zip(range(8),y_gauss):\n",
    "    if(sigma[i] != 0):\n",
    "        y_87 += gauss(x,N[i],mu[i],sigma[i])\n",
    "        plot(x,gauss(x,N[i],mu[i],sigma[i]),color = 'grey',ls = '--')\n",
    "        plot(x,y_g, color = 'grey',ls = '--')\n",
    "\n",
    "\n",
    "\n",
    "plot(x,y_87+y)\n",
    "\n",
    "xticks(np.arange(-6000,3000,2000),np.arange(-6,3,2))\n",
    "\n",
    "par_87, cov = opt.curve_fit(two_gauss,x,y_87,[.7,1,-4000,2000,217,217])\n",
    "scale_85 = 0.057517/par_85[0]\n",
    "scale_87 = \t0.024994/par_87[0]"
   ]
  },
  {
   "cell_type": "code",
   "execution_count": 437,
   "metadata": {},
   "outputs": [
    {
     "data": {
      "image/png": "[encoded data removed]",
      "text/plain": [
       "<matplotlib.figure.Figure at 0x7fa49a2502b0>"
      ]
     },
     "metadata": {},
     "output_type": "display_data"
    }
   ],
   "source": [
    "figsize(6,4)\n",
    "x= np.arange(-6000,3000,10)\n",
    "y_87= np.zeros(len(x))\n",
    "for i,y_g in zip(range(8),y_gauss):\n",
    "    if(sigma[i] != 0):\n",
    "        y_87 += gauss(x,N[i],mu[i],sigma[i])\n",
    "        plot(x,scale_87*gauss(x,N[i],mu[i],sigma[i]),color = 'grey',ls = '--')\n",
    "        plot(x,y_g*scale_85, color = 'grey',ls = '--')\n",
    "\n",
    "scale_85 = 0.057517/par_85[0]\n",
    "scale_87 = \t0.024994/par_87[0]\n",
    "\n",
    "plot(x,y_87*scale_87+y*scale_85)\n",
    "\n",
    "xticks(np.arange(-6000,3000,2000),np.arange(-6,3,2))\n",
    "\n",
    "par_87, cov = opt.curve_fit(two_gauss,x,y_87,[.7,1,-4000,2000,217,217])"
   ]
  },
  {
   "cell_type": "code",
   "execution_count": 425,
   "metadata": {
    "scrolled": false
   },
   "outputs": [],
   "source": [
    "figsize(9,7)\n",
    "\n",
    "\n",
    "gap_87 = par_87[3]-par_87[2]"
   ]
  },
  {
   "cell_type": "code",
   "execution_count": 426,
   "metadata": {},
   "outputs": [
    {
     "data": {
      "text/plain": [
       "6500.8781155689685"
      ]
     },
     "execution_count": 426,
     "metadata": {},
     "output_type": "execute_result"
    }
   ],
   "source": [
    "gap_87"
   ]
  },
  {
   "cell_type": "code",
   "execution_count": null,
   "metadata": {
    "scrolled": true
   },
   "outputs": [],
   "source": [
    "gap_ratio = gap_85/gap_87\n",
    "gap_ratio"
   ]
  },
  {
   "cell_type": "code",
   "execution_count": null,
   "metadata": {},
   "outputs": [],
   "source": [
    "peak_ratio_85 = par_85[0]/par_85[1]\n",
    "peak_ratio_85"
   ]
  },
  {
   "cell_type": "code",
   "execution_count": null,
   "metadata": {},
   "outputs": [],
   "source": [
    "peak_ratio_87 = par_87[0]/par_87[1]\n",
    "peak_ratio_87"
   ]
  },
  {
   "cell_type": "code",
   "execution_count": null,
   "metadata": {},
   "outputs": [],
   "source": [
    "plot(x,two_gauss(x,*par_87))\n",
    "plot(x,two_gauss(x,*par_85))"
   ]
  }
 ],
 "metadata": {
  "kernelspec": {
   "display_name": "Python 3",
   "language": "python",
   "name": "python3"
  },
  "language_info": {
   "codemirror_mode": {
    "name": "ipython",
    "version": 3
   },
   "file_extension": ".py",
   "mimetype": "text/x-python",
   "name": "python",
   "nbconvert_exporter": "python",
   "pygments_lexer": "ipython3",
   "version": "3.5.3"
  }
 },
 "nbformat": 4,
 "nbformat_minor": 2
}
